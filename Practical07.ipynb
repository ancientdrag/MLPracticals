{
 "cells": [
  {
   "cell_type": "code",
   "execution_count": 1,
   "id": "cc582de3",
   "metadata": {},
   "outputs": [],
   "source": [
    "import pandas as pd\n",
    "import numpy as np\n",
    "from sklearn.model_selection import train_test_split"
   ]
  },
  {
   "cell_type": "code",
   "execution_count": 2,
   "id": "84e758cb",
   "metadata": {},
   "outputs": [],
   "source": [
    "data = pd.read_csv('Advertising.csv')\n",
    "\n",
    "X = data.iloc[: , :-1].values\n",
    "Y = data.iloc[: , -1].values \n",
    "\n",
    "X = (X - np.min(X)) / (np.max(X) - np.min(X))\n",
    "\n",
    "X_train, X_test, Y_train, Y_test = train_test_split(X, Y)"
   ]
  },
  {
   "cell_type": "code",
   "execution_count": 3,
   "id": "95ba9564",
   "metadata": {},
   "outputs": [],
   "source": [
    "class LinearRegression:\n",
    "    def __init__(self, learning_rate=0.01, num_iterations=1000):\n",
    "        self.learning_rate = learning_rate\n",
    "        self.num_iterations = num_iterations\n",
    "        self.theta = None\n",
    "\n",
    "    def fit(self, X, y, num_iterations=1000, learning_rate=0.01):\n",
    "        if (num_iterations != 1000):\n",
    "            self.num_iterations = num_iterations\n",
    "        if (learning_rate != 0.01):\n",
    "            self.learning_rate = learning_rate\n",
    "\n",
    "        n_samples, n_features = X.shape\n",
    "        self.theta = np.zeros(n_features)\n",
    "\n",
    "        for _ in range(self.num_iterations):\n",
    "            hypothesis = np.dot(X, self.theta)\n",
    "            gradients = np.dot(X.T, (hypothesis - y)) / n_samples\n",
    "            self.theta -= self.learning_rate * gradients\n",
    "\n",
    "    def predict(self, X):\n",
    "        return np.dot(X, self.theta)\n",
    "    \n"
   ]
  },
  {
   "cell_type": "code",
   "execution_count": 4,
   "id": "cd7b5013",
   "metadata": {},
   "outputs": [],
   "source": [
    "def mse(y_predicted, y_actual):\n",
    "    return np.mean((y_predicted - y_actual)**2)\n",
    "\n",
    "def tse(y_test):\n",
    "    return np.sum(np.sum((np.mean(y_test) - y_test) ** 2))\n",
    "\n",
    "def r2score(y_pred, y_test):\n",
    "    return 1 - (mse(y_pred, y_test) / tse(y_test))\n",
    "\n"
   ]
  },
  {
   "cell_type": "code",
   "execution_count": 5,
   "id": "459d6399",
   "metadata": {},
   "outputs": [],
   "source": [
    "lr = LinearRegression()\n",
    "lr.fit(X_train, Y_train)\n",
    "\n"
   ]
  },
  {
   "cell_type": "code",
   "execution_count": 6,
   "id": "4eb9a799",
   "metadata": {},
   "outputs": [
    {
     "ename": "SyntaxError",
     "evalue": "unterminated string literal (detected at line 2) (1918602299.py, line 2)",
     "output_type": "error",
     "traceback": [
      "\u001b[1;36m  Cell \u001b[1;32mIn[6], line 2\u001b[1;36m\u001b[0m\n\u001b[1;33m    print (f\"MSE: {mse(pred, Y_test)}\"\")\u001b[0m\n\u001b[1;37m                                      ^\u001b[0m\n\u001b[1;31mSyntaxError\u001b[0m\u001b[1;31m:\u001b[0m unterminated string literal (detected at line 2)\n"
     ]
    }
   ],
   "source": [
    "pred = lr.predict(X_test)\n",
    "print (f\"MSE: {mse(pred, Y_test)}\"\")\n",
    "print (f\"R2: {r2score(pred, Y_test)}\")"
   ]
  },
  {
   "cell_type": "code",
   "execution_count": null,
   "id": "e2a07392",
   "metadata": {},
   "outputs": [],
   "source": []
  }
 ],
 "metadata": {
  "kernelspec": {
   "display_name": "Python 3 (ipykernel)",
   "language": "python",
   "name": "python3"
  },
  "language_info": {
   "codemirror_mode": {
    "name": "ipython",
    "version": 3
   },
   "file_extension": ".py",
   "mimetype": "text/x-python",
   "name": "python",
   "nbconvert_exporter": "python",
   "pygments_lexer": "ipython3",
   "version": "3.11.7"
  }
 },
 "nbformat": 4,
 "nbformat_minor": 5
}
