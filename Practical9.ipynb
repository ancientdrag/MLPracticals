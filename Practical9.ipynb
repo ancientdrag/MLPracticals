{
 "cells": [
  {
   "cell_type": "code",
   "execution_count": 1,
   "id": "1dd5a639",
   "metadata": {},
   "outputs": [],
   "source": [
    "import numpy as np\n",
    "from sklearn.datasets import load_iris\n",
    "from sklearn.model_selection import train_test_split\n",
    "from sklearn.metrics import confusion_matrix"
   ]
  },
  {
   "cell_type": "code",
   "execution_count": 3,
   "id": "c15ac478",
   "metadata": {},
   "outputs": [],
   "source": [
    "# Load the iris dataset\n",
    "data = load_iris()\n",
    "X = data.data\n",
    "y = data.target\n",
    "\n",
    "# Split the data into training and testing sets\n",
    "X_train, X_test, y_train, y_test = train_test_split(X, y, test_size=0.2, random_state=42)"
   ]
  },
  {
   "cell_type": "code",
   "execution_count": 4,
   "id": "35a3b518",
   "metadata": {},
   "outputs": [],
   "source": [
    "# Initialize weights and bias\n",
    "weights = np.zeros(X_train.shape[1])\n",
    "bias = 0\n",
    "\n",
    "# Set learning rate and number of iterations\n",
    "learning_rate = 0.01\n",
    "iterations = 1000"
   ]
  },
  {
   "cell_type": "code",
   "execution_count": 5,
   "id": "b2fb4cb9",
   "metadata": {},
   "outputs": [],
   "source": [
    "# Sigmoid function\n",
    "def sigmoid(z):\n",
    "    return 1 / (1 + np.exp(-z))\n",
    "\n",
    "# Logistic Regression\n",
    "for i in range(iterations):\n",
    "    # Forward propagation\n",
    "    z = np.dot(X_train, weights) + bias\n",
    "    y_pred_train = sigmoid(z)\n",
    "    \n",
    "    # Backward propagation\n",
    "    dw = (1 / len(X_train)) * np.dot(X_train.T, (y_pred_train - y_train))\n",
    "    db = (1 / len(X_train)) * np.sum(y_pred_train - y_train)\n",
    "    \n",
    "    # Update weights and bias\n",
    "    weights -= learning_rate * dw\n",
    "    bias -= learning_rate * db"
   ]
  },
  {
   "cell_type": "code",
   "execution_count": 6,
   "id": "3121b33b",
   "metadata": {},
   "outputs": [],
   "source": [
    "# Predict on the test set\n",
    "y_pred_test = sigmoid(np.dot(X_test, weights) + bias)\n",
    "y_pred_test = [1 if p > 0.5 else 0 for p in y_pred_test]"
   ]
  },
  {
   "cell_type": "code",
   "execution_count": 7,
   "id": "a5bd02d8",
   "metadata": {},
   "outputs": [
    {
     "name": "stdout",
     "output_type": "stream",
     "text": [
      "Confusion Matrix:\n",
      "[[ 0 10  0]\n",
      " [ 0  9  0]\n",
      " [ 0 11  0]]\n",
      "Sensitivity :  0.0\n",
      "Specificity :  1.0\n"
     ]
    }
   ],
   "source": [
    "# Print confusion matrix, sensitivity, specificity\n",
    "cm = confusion_matrix(y_test, y_pred_test)\n",
    "print('Confusion Matrix:')\n",
    "print(cm)\n",
    "sensitivity = cm[0, 0] / (cm[0, 0] + cm[0, 1])\n",
    "print('Sensitivity : ', sensitivity )\n",
    "specificity = cm[1, 1] / (cm[1, 0] + cm[1, 1])\n",
    "print('Specificity : ', specificity)"
   ]
  }
 ],
 "metadata": {
  "kernelspec": {
   "display_name": "Python 3 (ipykernel)",
   "language": "python",
   "name": "python3"
  },
  "language_info": {
   "codemirror_mode": {
    "name": "ipython",
    "version": 3
   },
   "file_extension": ".py",
   "mimetype": "text/x-python",
   "name": "python",
   "nbconvert_exporter": "python",
   "pygments_lexer": "ipython3",
   "version": "3.11.7"
  }
 },
 "nbformat": 4,
 "nbformat_minor": 5
}
